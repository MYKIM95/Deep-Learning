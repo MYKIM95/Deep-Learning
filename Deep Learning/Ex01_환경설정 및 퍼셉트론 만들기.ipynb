{
 "cells": [
  {
   "cell_type": "markdown",
   "id": "creative-connecticut",
   "metadata": {},
   "source": [
    "### 1. 환경보기"
   ]
  },
  {
   "cell_type": "code",
   "execution_count": 1,
   "id": "preliminary-syria",
   "metadata": {},
   "outputs": [
    {
     "name": "stdout",
     "output_type": "stream",
     "text": [
      "Requirement already satisfied: numpy in c:\\users\\smhrd\\anaconda3\\envs\\deep\\lib\\site-packages (1.19.2)\n",
      "Requirement already satisfied: pandas in c:\\users\\smhrd\\anaconda3\\envs\\deep\\lib\\site-packages (1.1.5)\n",
      "Requirement already satisfied: pytz>=2017.2 in c:\\users\\smhrd\\anaconda3\\envs\\deep\\lib\\site-packages (from pandas) (2021.1)\n",
      "Requirement already satisfied: python-dateutil>=2.7.3 in c:\\users\\smhrd\\anaconda3\\envs\\deep\\lib\\site-packages (from pandas) (2.8.1)\n",
      "Requirement already satisfied: numpy>=1.15.4 in c:\\users\\smhrd\\anaconda3\\envs\\deep\\lib\\site-packages (from pandas) (1.19.2)\n",
      "Requirement already satisfied: six>=1.5 in c:\\users\\smhrd\\anaconda3\\envs\\deep\\lib\\site-packages (from python-dateutil>=2.7.3->pandas) (1.15.0)\n",
      "2.1.0\n"
     ]
    }
   ],
   "source": [
    "!pip install numpy\n",
    "!pip install pandas\n",
    "\n",
    "# 버전보기\n",
    "import tensorflow as tf\n",
    "print(tf.__version__)"
   ]
  },
  {
   "cell_type": "markdown",
   "id": "ideal-mathematics",
   "metadata": {},
   "source": [
    "### 2. AND 게이트 구현"
   ]
  },
  {
   "cell_type": "code",
   "execution_count": 2,
   "id": "informed-hopkins",
   "metadata": {},
   "outputs": [],
   "source": [
    "import numpy as np\n",
    "import pandas as pd"
   ]
  },
  {
   "cell_type": "code",
   "execution_count": 3,
   "id": "threaded-delight",
   "metadata": {},
   "outputs": [],
   "source": [
    "# 활성화 함수\n",
    "def activation_function(x):\n",
    "    if x <= 0:\n",
    "        return 0\n",
    "    else:\n",
    "        return 1"
   ]
  },
  {
   "cell_type": "markdown",
   "id": "metallic-missouri",
   "metadata": {},
   "source": [
    "### 2.1 AND 퍼셉트론 만들기"
   ]
  },
  {
   "cell_type": "code",
   "execution_count": 4,
   "id": "collectible-hughes",
   "metadata": {},
   "outputs": [],
   "source": [
    "def AND(x1, x2):\n",
    "    input_x = np.array([x1, x2])\n",
    "    W = np.array([0.5, 0.5])\n",
    "    b = -0.7\n",
    "    \n",
    "    result = (input_x * W).sum() + b\n",
    "    return activation_function(result)"
   ]
  },
  {
   "cell_type": "code",
   "execution_count": 5,
   "id": "military-coral",
   "metadata": {},
   "outputs": [
    {
     "name": "stdout",
     "output_type": "stream",
     "text": [
      "0\n",
      "0\n",
      "0\n",
      "1\n"
     ]
    }
   ],
   "source": [
    "print(AND(0,0))\n",
    "print(AND(0,1))\n",
    "print(AND(1,0))\n",
    "print(AND(1,1))"
   ]
  },
  {
   "cell_type": "markdown",
   "id": "employed-baker",
   "metadata": {},
   "source": [
    "### 2.2 OR 게이트"
   ]
  },
  {
   "cell_type": "code",
   "execution_count": 6,
   "id": "distinguished-holiday",
   "metadata": {},
   "outputs": [],
   "source": [
    "def OR(x1, x2):\n",
    "    input_x = np.array([x1, x2])\n",
    "    W = np.array([0.5, 0.5])\n",
    "    b = -0.1\n",
    "    \n",
    "    result = (input_x * W).sum() + b\n",
    "    return activation_function(result)"
   ]
  },
  {
   "cell_type": "code",
   "execution_count": 7,
   "id": "sexual-colors",
   "metadata": {},
   "outputs": [
    {
     "name": "stdout",
     "output_type": "stream",
     "text": [
      "0\n",
      "1\n",
      "1\n",
      "1\n"
     ]
    }
   ],
   "source": [
    "print(OR(0,0))\n",
    "print(OR(0,1))\n",
    "print(OR(1,0))\n",
    "print(OR(1,1))"
   ]
  },
  {
   "cell_type": "markdown",
   "id": "equal-currency",
   "metadata": {},
   "source": [
    "### 2.3.1 NAND 게이트\n",
    "- AND 게이트의 반대"
   ]
  },
  {
   "cell_type": "code",
   "execution_count": 8,
   "id": "assisted-franklin",
   "metadata": {},
   "outputs": [],
   "source": [
    "def NAND(x1, x2):\n",
    "    input_x = np.array([x1, x2])\n",
    "    W = np.array([-1,-1])\n",
    "    b = 2\n",
    "    \n",
    "    result = (input_x * W).sum() + b\n",
    "    return activation_function(result)"
   ]
  },
  {
   "cell_type": "code",
   "execution_count": 9,
   "id": "formed-filling",
   "metadata": {},
   "outputs": [
    {
     "name": "stdout",
     "output_type": "stream",
     "text": [
      "1\n",
      "1\n",
      "1\n",
      "0\n"
     ]
    }
   ],
   "source": [
    "print(NAND(0,0))\n",
    "print(NAND(0,1))\n",
    "print(NAND(1,0))\n",
    "print(NAND(1,1))"
   ]
  },
  {
   "cell_type": "markdown",
   "id": "conceptual-address",
   "metadata": {},
   "source": [
    "### XORMLP 만들기"
   ]
  },
  {
   "cell_type": "code",
   "execution_count": 14,
   "id": "checked-clearing",
   "metadata": {},
   "outputs": [],
   "source": [
    "def XOR(x1, x2):\n",
    "    return AND(NAND(x1, x2),OR(x1, x2))"
   ]
  },
  {
   "cell_type": "code",
   "execution_count": 15,
   "id": "worse-graham",
   "metadata": {},
   "outputs": [
    {
     "name": "stdout",
     "output_type": "stream",
     "text": [
      "0\n",
      "1\n",
      "1\n",
      "0\n"
     ]
    }
   ],
   "source": [
    "print(XOR(0,0))\n",
    "print(XOR(0,1))\n",
    "print(XOR(1,0))\n",
    "print(XOR(1,1))"
   ]
  },
  {
   "cell_type": "code",
   "execution_count": null,
   "id": "powerful-lebanon",
   "metadata": {},
   "outputs": [],
   "source": []
  }
 ],
 "metadata": {
  "kernelspec": {
   "display_name": "Python 3",
   "language": "python",
   "name": "python3"
  },
  "language_info": {
   "codemirror_mode": {
    "name": "ipython",
    "version": 3
   },
   "file_extension": ".py",
   "mimetype": "text/x-python",
   "name": "python",
   "nbconvert_exporter": "python",
   "pygments_lexer": "ipython3",
   "version": "3.6.13"
  }
 },
 "nbformat": 4,
 "nbformat_minor": 5
}
